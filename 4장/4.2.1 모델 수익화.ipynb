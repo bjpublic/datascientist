{
 "cells": [
  {
   "cell_type": "markdown",
   "id": "1cc1f055",
   "metadata": {},
   "source": [
    "- 📚 데이터 사이언티스트의 실전노트, 이지영, [비제이퍼블릭](https://bjpublic.tistory.com/) \n",
    "- 🌟 [YouTube: 통계학 & 데이터과학](https://https://www.youtube.com/channel/UC2BreMMPUd0djRpA4UEaD3Q)\n",
    "- 💻 [클래스101: 데이터 과학자 실무 프로젝트 (분석+예측모델 + AWS 자동화)](https://class101.page.link/MhG4)"
   ]
  },
  {
   "cell_type": "markdown",
   "id": "e4ac879d",
   "metadata": {},
   "source": [
    "## 4. 데이터 사이언티스트가 하는 일\n",
    "### 4.2 꼭 알아야 할 키워드\n",
    "#### 4.2.1 모델 수익화 (Page 346)"
   ]
  },
  {
   "cell_type": "markdown",
   "id": "7e26847a",
   "metadata": {},
   "source": [
    "<주의> app.py로 저장하세요"
   ]
  },
  {
   "cell_type": "code",
   "execution_count": null,
   "id": "84cc7380",
   "metadata": {},
   "outputs": [],
   "source": [
    "from flask import Flask # 플라스크 사용을 위한 라이브러리 \n",
    "\n",
    "app = Flask(__name__) # 주요(main) 함수가 실행될 때 변수(app) 설정 \n",
    "\n",
    "@app.route('/') # / 경로에 응답할 함수\n",
    "def hello():\n",
    "    return 'Hello, World!'\n",
    "\n",
    "if __name__ == '__main__': # localhost:8081 서버 app 열기 \n",
    "    app.run(host='0.0.0.0', port=8081) "
   ]
  },
  {
   "cell_type": "code",
   "execution_count": null,
   "id": "1e70867c",
   "metadata": {},
   "outputs": [],
   "source": [
    "from flask import Flask # 플라스크 사용을 위한 라이브러리 \n",
    "\n",
    "app = Flask(__name__) # 주요 함수가 실행될 때 변수(app) 설정 \n",
    "\n",
    "data = {\"IDs\": [\"A\", \"B\", \"C\", \"D\"]} \n",
    "\n",
    "@app.route('/') # / 경로에 응답할 함수\n",
    "def hello():\n",
    "    return 'Hello, World!'\n",
    "\n",
    "@app.route('/ID/<name>') # /ID/<name> 경로에 응답할 함수\n",
    "def ID(name):\n",
    "    if name in data[\"IDs\"]: # name이 데이터에 있는 경우\n",
    "        return f'Thank you for visiting again, {name}!'\n",
    "    else: # name이 데이터에 없는경우\n",
    "        return f'Hi, {name}!'\n",
    "\n",
    "if __name__ == '__main__': # localhost:8081 서버 app 열기 \n",
    "    app.run(host='0.0.0.0', port=8081) \n"
   ]
  },
  {
   "cell_type": "markdown",
   "id": "d7586496",
   "metadata": {},
   "source": [
    "⚠ 저작권: Copyright 2022. (이지영) all rights reserved. 본 자료는 저작권법에 의하여 보호받는 저작물로서 이에 대한 무단 복제 및 배포를 원칙적으로 금합니다. 협의 없이 배포하거나 무단으로 사용할 경우 저작권법 제136조, 137조, 138조 위반으로 사전 경고 없이 손해배상 청구 등 민,형사상의 책임과 처벌을 받을 수 있습니다."
   ]
  }
 ],
 "metadata": {
  "kernelspec": {
   "display_name": "Python 3 (ipykernel)",
   "language": "python",
   "name": "python3"
  },
  "language_info": {
   "codemirror_mode": {
    "name": "ipython",
    "version": 3
   },
   "file_extension": ".py",
   "mimetype": "text/x-python",
   "name": "python",
   "nbconvert_exporter": "python",
   "pygments_lexer": "ipython3",
   "version": "3.9.7"
  },
  "toc": {
   "base_numbering": 1,
   "nav_menu": {},
   "number_sections": true,
   "sideBar": true,
   "skip_h1_title": false,
   "title_cell": "Table of Contents",
   "title_sidebar": "Contents",
   "toc_cell": false,
   "toc_position": {},
   "toc_section_display": true,
   "toc_window_display": false
  }
 },
 "nbformat": 4,
 "nbformat_minor": 5
}
