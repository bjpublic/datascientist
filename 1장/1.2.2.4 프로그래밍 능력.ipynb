{
 "cells": [
  {
   "cell_type": "markdown",
   "id": "bf4c64fa",
   "metadata": {},
   "source": [
    "- 📚 데이터 사이언티스트의 실전노트, 이지영, [비제이퍼블릭](https://bjpublic.tistory.com/) \n",
    "- 🌟 [YouTube: 통계학 & 데이터과학](https://https://www.youtube.com/channel/UC2BreMMPUd0djRpA4UEaD3Q)\n",
    "- 💻 [클래스101: 데이터 과학자 실무 프로젝트 (분석+예측모델 + AWS 자동화)](https://class101.page.link/MhG4)"
   ]
  },
  {
   "cell_type": "markdown",
   "id": "feae3e66",
   "metadata": {},
   "source": [
    "# 1.2.2 진짜 데이터 사이언티스트가 갖춰야 할 역량\n",
    "## 1.2.2.4 기술력(3) 프로그래밍 능력: 나쁜 프로그래밍 언어는 없어도 나쁜 코딩은 있다. \n",
    "파이썬 예제 1. 내가 다루는 데이터 포맷, 가장 적합한 포맷일까? (Page 28)"
   ]
  },
  {
   "cell_type": "code",
   "execution_count": 1,
   "id": "86a9bacb",
   "metadata": {},
   "outputs": [
    {
     "name": "stdout",
     "output_type": "stream",
     "text": [
      "파이썬: 3.9.7\n"
     ]
    }
   ],
   "source": [
    "# 파이썬 확인 \n",
    "from platform import python_version\n",
    "print(\"파이썬:\", python_version())"
   ]
  },
  {
   "cell_type": "code",
   "execution_count": 2,
   "id": "18bb6984",
   "metadata": {},
   "outputs": [],
   "source": [
    "# 판다스 라이브러리 설치\n",
    "# !pip3 install pandas\n",
    "# !pip3 install pyarrow"
   ]
  },
  {
   "cell_type": "code",
   "execution_count": 3,
   "id": "ddc7f356",
   "metadata": {},
   "outputs": [],
   "source": [
    "# 데이터 분석 라이브러리\n",
    "import pandas as pd\n",
    "\n",
    "# 수치 연산을 수행하는 선형 대수(Linear Algebra) 라이브러리 \n",
    "import numpy as np\n",
    "\n",
    "# 난수(Random) 생성\n",
    "import random\n",
    "\n",
    "# 시간 계산\n",
    "from timeit import default_timer as timer\n",
    "\n",
    "# 그래프 관련 라이브러리  \n",
    "import matplotlib\n",
    "import matplotlib.pyplot as plt\n",
    "import matplotlib.font_manager as fm\n",
    "from matplotlib import rc"
   ]
  },
  {
   "cell_type": "code",
   "execution_count": 4,
   "id": "cfd3bea0",
   "metadata": {},
   "outputs": [],
   "source": [
    "def generate_dataframe(n_rows, n_cols):\n",
    "    \"\"\"\n",
    "    주어진 행과 열의 숫자로 임의의 데이터 프레임을 생성하며,\n",
    "    이때 각 열의 ㄱ밧은 표준정규분포를 띄는 임의의 수를 가진다.\n",
    "    \"\"\"\n",
    "    # 딕셔너리에서 키(key)는 열 이름, 밸류(value)는 표준정규분포를 띄는 무작위 수로, 차후 데이터프레임으로 변환\n",
    "    random_dataframe = {}\n",
    "\n",
    "    for col in range(n_cols):\n",
    "    # 문자열에서 특정 부분을 바꿀 경우 f-string(문자열 포맷팅) 사용\n",
    "    # 문자열에서 앞에 f를 붙여 주고, 중괄호 안에 변수 이름이나 출력하고 싶은 것을 입력\n",
    "        col_name = f'col_{col+1}'\n",
    "        values = np.random.normal(0, 1, n_rows)\n",
    "        random_dataframe[col_name] = values\n",
    "        return pd.DataFrame(random_dataframe)"
   ]
  },
  {
   "cell_type": "code",
   "execution_count": 5,
   "id": "0c388b93",
   "metadata": {},
   "outputs": [],
   "source": [
    "# 테스트 함수: csv, csv.gzip, pickle, feather\n",
    "def get_results(n_rows, n_cols): \n",
    "    \"\"\"\n",
    "    1. 주어진 행과 열의 숫자를 입력하면, 표준정규분포를 가진 임의 데이터프레임 생성\n",
    "    2. CSV, CSV.gzip, pickle, feather로 데이터를 저장하고 불러오는 시간 계산 후,\n",
    "    3. 종류별 소요시간을 그래프로 출력 \n",
    "    \"\"\"\n",
    " \n",
    "    # generate_dataframe를 이용해 임의 데이터 생성 \n",
    "    df_sample = generate_dataframe(n_rows, n_cols)\n",
    "    \n",
    "    print(\"생성된 데이터프레임 정보\")\n",
    "    df_sample.info()\n",
    "    \n",
    "    # 테스트(포맷) 종류 \n",
    "    test_list = [\"csv\", \"csv.gzip\", \"pickle\", \"feather\"]\n",
    "\n",
    "    # 각 테스트마다 데이터를 저장하는 시간, 불러오는 시간을 리스트에 넣을 예정 \n",
    "    # start와 end로 파일 저장 시간을 계산 후, test_save_time에 저장\n",
    "    test_save_time = []\n",
    "    # start와 end로 파일 읽는 시간을 계산 후, test_read_time에 저장\n",
    "    test_read_time = []\n",
    "    \n",
    "    # 실험1: CSV\n",
    "    start = timer()\n",
    "    df_sample.to_csv(\"./data/sample.csv\")\n",
    "    end = timer()\n",
    "    test_save_time.append(round(end - start, 3))\n",
    "\n",
    "    start = timer()\n",
    "    pd.read_csv(\"./data/sample.csv\")\n",
    "    end = timer()\n",
    "    test_read_time.append(round(end - start, 3))\n",
    "\n",
    "    # 실험2: CSV.gzip\n",
    "    start = timer()\n",
    "    df_sample.to_csv(\"./data/sample_gzip.csv\", compression='gzip')\n",
    "    end = timer()\n",
    "    test_save_time.append(round(end - start, 3))\n",
    "\n",
    "    start = timer()\n",
    "    pd.read_csv(\"./data/sample_gzip.csv\", compression='gzip')\n",
    "    end = timer()\n",
    "    test_read_time.append(round(end - start, 3))\n",
    "\n",
    "    # 실험3: pickle\n",
    "    start = timer()\n",
    "    df_sample.to_pickle(\"./data/sample.pkl\")\n",
    "    end = timer()\n",
    "    test_save_time.append(round(end - start, 3))\n",
    "\n",
    "    start = timer()\n",
    "    pd.read_pickle(\"./data/sample.pkl\")\n",
    "    end = timer()\n",
    "    test_read_time.append(round(end - start, 3))\n",
    "\n",
    "    # 실험4: feather\n",
    "    start = timer()\n",
    "    df_sample.to_feather(\"./data/sample.feather\")\n",
    "    end = timer()\n",
    "    test_save_time.append(round(end - start, 3))\n",
    "\n",
    "    start = timer()\n",
    "    pd.read_feather('./data/sample.feather')  \n",
    "    end = timer()\n",
    "    test_read_time.append(round(end - start, 3))\n",
    "    \n",
    "    # 결과값을 그래프로 변환 \n",
    "    # 참고: https://matplotlib.org/3.3.2/api/_as_gen/matplotlib.pyplot.bar.html\n",
    "    # 사이즈 참고: https://matplotlib.org/users/dflt_style_changes.html   \n",
    "    \n",
    "    # 그래프 폰트 사이즈 설정 \n",
    "    size = 13\n",
    "    params = {'figure.figsize': [10, 7], # 그래프 사이즈 설정\n",
    "            'legend.fontsize': size,\n",
    "            'font.size':size,\n",
    "            'figure.titlesize': size*1.3,\n",
    "            'axes.labelsize': size,\n",
    "            'xtick.labelsize': size,\n",
    "            'ytick.labelsize': size}\n",
    "    plt.rcParams.update(params)\n",
    "    \n",
    "    \n",
    "    # matplotlib 폰트 설정 (Mac OS인 경우)\n",
    "    rc('font', family='AppleGothic')\n",
    "    plt.rcParams['axes.unicode_minus'] = False\n",
    "\n",
    "    x = np.arange(len(test_list)) # 값 위치 \n",
    "    width = 0.35 # 바 넓이\n",
    "    fig, ax = plt.subplots()\n",
    "    \n",
    "    # 저장 시간과 읽는 시간 - 두 개 막대그래프가 보이도록 설정 \n",
    "    rects1 = ax.bar(x - width/2, test_save_time, width, label='저장시간')\n",
    "    rects2 = ax.bar(x + width/2, test_read_time, width, label='읽기시간')\n",
    "    \n",
    "    ax.set_title(f'파일 종류별 저장/읽기 시간 \\n 데이터프레임 사이즈: {df_sample.shape}')\n",
    "    ax.set_ylabel('시간 (초)')\n",
    "    ax.set_xticks(x)\n",
    "    ax.set_xticklabels(test_list)\n",
    "    ax.legend()\n",
    "    \n",
    "    # 막대 그래프마다 결과값(시간) 표기 \n",
    "    def autolabel(rects):\n",
    "        for rect in rects:\n",
    "            height = rect.get_height()\n",
    "            ax.annotate(f'{height}', #저장/읽기시간 값\n",
    "                        xy=(rect.get_x() + rect.get_width() / 2, height), #값 위치\n",
    "                        xytext=(0, 4), #결과값과 (x,y)포인트와의 거리  \n",
    "                        textcoords=\"offset points\",\n",
    "                        ha='center')\n",
    "            \n",
    "    autolabel(rects1)\n",
    "    autolabel(rects2)\n",
    "    fig.tight_layout()\n",
    "    plt.show()\n",
    "    \n",
    "    # 그래프 이미지 파일로 저장\n",
    "    fig.savefig('파일저장읽기시간그래프.png', dpi=200)\n"
   ]
  },
  {
   "cell_type": "code",
   "execution_count": 6,
   "id": "9b231f93",
   "metadata": {},
   "outputs": [
    {
     "name": "stdout",
     "output_type": "stream",
     "text": [
      "생성된 데이터프레임 정보\n",
      "<class 'pandas.core.frame.DataFrame'>\n",
      "RangeIndex: 3000000 entries, 0 to 2999999\n",
      "Data columns (total 1 columns):\n",
      " #   Column  Dtype  \n",
      "---  ------  -----  \n",
      " 0   col_1   float64\n",
      "dtypes: float64(1)\n",
      "memory usage: 22.9 MB\n"
     ]
    },
    {
     "data": {
      "image/png": "[encoded data removed]",
      "text/plain": [
       "<Figure size 720x504 with 1 Axes>"
      ]
     },
     "metadata": {
      "needs_background": "light"
     },
     "output_type": "display_data"
    }
   ],
   "source": [
    "# 함수 실행하기\n",
    "get_results(3000000, 5)"
   ]
  },
  {
   "cell_type": "markdown",
   "id": "cc5d6188",
   "metadata": {},
   "source": [
    "⚠ 저작권: Copyright 2022. (이지영) all rights reserved. \n",
    "본 자료는 저작권법에 의하여 보호받는 저작물로서 이에 대한 무단 복제 및 배포를 원칙적으로 금합니다. 협의 없이 배포하거나 무단으로 사용할 경우 저작권법 제136조, 137조, 138조 위반으로 사전 경고 없이 손해배상 청구 등 민,형사상의 책임과 처벌을 받을 수 있습니다."
   ]
  }
 ],
 "metadata": {
  "kernelspec": {
   "display_name": "Python 3 (ipykernel)",
   "language": "python",
   "name": "python3"
  },
  "language_info": {
   "codemirror_mode": {
    "name": "ipython",
    "version": 3
   },
   "file_extension": ".py",
   "mimetype": "text/x-python",
   "name": "python",
   "nbconvert_exporter": "python",
   "pygments_lexer": "ipython3",
   "version": "3.9.7"
  },
  "toc": {
   "base_numbering": 1,
   "nav_menu": {},
   "number_sections": true,
   "sideBar": true,
   "skip_h1_title": false,
   "title_cell": "Table of Contents",
   "title_sidebar": "Contents",
   "toc_cell": false,
   "toc_position": {},
   "toc_section_display": true,
   "toc_window_display": false
  }
 },
 "nbformat": 4,
 "nbformat_minor": 5
}
