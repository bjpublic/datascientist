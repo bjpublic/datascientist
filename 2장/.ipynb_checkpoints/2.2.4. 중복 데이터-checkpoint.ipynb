{
 "cells": [
  {
   "cell_type": "code",
   "execution_count": 8,
   "id": "110ac35c",
   "metadata": {},
   "outputs": [
    {
     "name": "stdout",
     "output_type": "stream",
     "text": [
      "Collecting fuzzywuzzy\n",
      "  Downloading fuzzywuzzy-0.18.0-py2.py3-none-any.whl (18 kB)\n",
      "Installing collected packages: fuzzywuzzy\n",
      "Successfully installed fuzzywuzzy-0.18.0\n"
     ]
    }
   ],
   "source": [
    "!pip3 install fuzzywuzzy"
   ]
  },
  {
   "cell_type": "code",
   "execution_count": 9,
   "id": "67124593",
   "metadata": {},
   "outputs": [
    {
     "name": "stderr",
     "output_type": "stream",
     "text": [
      "/Library/Frameworks/Python.framework/Versions/3.9/lib/python3.9/site-packages/fuzzywuzzy/fuzz.py:11: UserWarning: Using slow pure-python SequenceMatcher. Install python-Levenshtein to remove this warning\n",
      "  warnings.warn('Using slow pure-python SequenceMatcher. Install python-Levenshtein to remove this warning')\n"
     ]
    },
    {
     "data": {
      "text/plain": [
       "[('US!', 100), ('USA', 90), ('U.S.', 80)]"
      ]
     },
     "execution_count": 9,
     "metadata": {},
     "output_type": "execute_result"
    }
   ],
   "source": [
    "# fuzzywuzzy를 사용하기 위해 필요한 패키지 설치하기  \n",
    "# !pip3 install fuzzywuzzy\n",
    "\n",
    "# fuzzywuzzy를 사용하기 위한 라이브러리 불러오기 \n",
    "from fuzzywuzzy import fuzz\n",
    "from fuzzywuzzy import process\n",
    "\n",
    "# input_str: 기준이 되는 문자\n",
    "input_str = \"US\"\n",
    "\n",
    "# choices: 비교하고자 하는 문자 리스트\n",
    "choices = [\"US!\", \"U.S.\", \"USA\", \"United States\", \"SU\"]\n",
    "\n",
    "# input_str문자를 choices 안에 있는 각 문자와 비교한 뒤 상위 3개 선택\n",
    "process.extract(input_str, choices, limit=3)\n"
   ]
  },
  {
   "cell_type": "code",
   "execution_count": 10,
   "id": "b2cdf6fb",
   "metadata": {},
   "outputs": [
    {
     "data": {
      "text/plain": [
       "[('King Room, Deluxe', 95),\n",
       " ('Club Room, 1 King Bed', 75),\n",
       " ('Deluxe Room, 2 Queen Bed', 72),\n",
       " ('Deluxe Room, City View', 72),\n",
       " ('Junior Suite, 1 King Bed', 48)]"
      ]
     },
     "execution_count": 10,
     "metadata": {},
     "output_type": "execute_result"
    }
   ],
   "source": [
    "#출처: https://www.kaggle.com/leandrodoze/room-type  \n",
    "choices = [\"Deluxe Room, 2 Queen Bed\", \n",
    "           \"Deluxe Room, City View\", \n",
    "           \"Club Room, 1 King Bed\", \n",
    "           \"Junior Suite, 1 King Bed\", \n",
    "           \"King Room, Deluxe\"]\n",
    "\n",
    "process.extract(\"Deluxe 1 King Room\", choices)\n"
   ]
  },
  {
   "cell_type": "code",
   "execution_count": 11,
   "id": "19f13f3c",
   "metadata": {},
   "outputs": [
    {
     "data": {
      "text/html": [
       "<div>\n",
       "<style scoped>\n",
       "    .dataframe tbody tr th:only-of-type {\n",
       "        vertical-align: middle;\n",
       "    }\n",
       "\n",
       "    .dataframe tbody tr th {\n",
       "        vertical-align: top;\n",
       "    }\n",
       "\n",
       "    .dataframe thead th {\n",
       "        text-align: right;\n",
       "    }\n",
       "</style>\n",
       "<table border=\"1\" class=\"dataframe\">\n",
       "  <thead>\n",
       "    <tr style=\"text-align: right;\">\n",
       "      <th></th>\n",
       "      <th>룸타입</th>\n",
       "    </tr>\n",
       "  </thead>\n",
       "  <tbody>\n",
       "    <tr>\n",
       "      <th>0</th>\n",
       "      <td>Deluxe Room, 2 Queen Bed</td>\n",
       "    </tr>\n",
       "    <tr>\n",
       "      <th>1</th>\n",
       "      <td>Deluxe Room, City View</td>\n",
       "    </tr>\n",
       "    <tr>\n",
       "      <th>2</th>\n",
       "      <td>Club Room, 1 King Bed</td>\n",
       "    </tr>\n",
       "    <tr>\n",
       "      <th>3</th>\n",
       "      <td>Junior Suite, 1 King Bed</td>\n",
       "    </tr>\n",
       "    <tr>\n",
       "      <th>4</th>\n",
       "      <td>King Room, Deluxe</td>\n",
       "    </tr>\n",
       "  </tbody>\n",
       "</table>\n",
       "</div>"
      ],
      "text/plain": [
       "                        룸타입\n",
       "0  Deluxe Room, 2 Queen Bed\n",
       "1    Deluxe Room, City View\n",
       "2     Club Room, 1 King Bed\n",
       "3  Junior Suite, 1 King Bed\n",
       "4         King Room, Deluxe"
      ]
     },
     "execution_count": 11,
     "metadata": {},
     "output_type": "execute_result"
    }
   ],
   "source": [
    "# 라이브러리 불러오기\n",
    "import pandas as pd\n",
    "import numpy as np\n",
    "\n",
    "# choices를 데이터 타입으로 변환\n",
    "df = pd.DataFrame({'룸타입': choices})\n",
    "df\n"
   ]
  },
  {
   "cell_type": "code",
   "execution_count": 12,
   "id": "5e6ca1a7",
   "metadata": {},
   "outputs": [
    {
     "data": {
      "text/plain": [
       "[('Deluxe Room, 2 Queen Bed', 100, 0),\n",
       " ('King Room, Deluxe', 77, 4),\n",
       " ('Club Room, 1 King Bed', 67, 2),\n",
       " ('Deluxe Room, City View', 66, 1),\n",
       " ('Junior Suite, 1 King Bed', 42, 3)]"
      ]
     },
     "execution_count": 12,
     "metadata": {},
     "output_type": "execute_result"
    }
   ],
   "source": [
    "input_str = \"Deluxe Room, 2 Queen Bed\"\n",
    "process.extract(input_str, df['룸타입'])\n"
   ]
  },
  {
   "cell_type": "code",
   "execution_count": 14,
   "id": "df88aaf4",
   "metadata": {},
   "outputs": [
    {
     "name": "stdout",
     "output_type": "stream",
     "text": [
      "('King Room, Deluxe', 77, 4)\n"
     ]
    }
   ],
   "source": [
    "# input_str을 제외했을 때, 가장 비슷한 단어 선택(top_score)\n",
    "top_score = process.extract(input_str, df['룸타입'])[1] \n",
    "print(top_score)"
   ]
  },
  {
   "cell_type": "code",
   "execution_count": 16,
   "id": "6bd92323",
   "metadata": {},
   "outputs": [
    {
     "data": {
      "text/plain": [
       "'King Room, Deluxe'"
      ]
     },
     "execution_count": 16,
     "metadata": {},
     "output_type": "execute_result"
    }
   ],
   "source": [
    "threshold = 70\n",
    "\n",
    "# 이 비슷한 단어의 스코어가 임계값보다 높으면 단어를 선택하고 그렇지 않은 경우 결측치로 표현\n",
    "top_score[0] if top_score[1] > threshold else np.nan \n"
   ]
  },
  {
   "cell_type": "code",
   "execution_count": 18,
   "id": "ecdc3f43",
   "metadata": {},
   "outputs": [
    {
     "data": {
      "text/html": [
       "<div>\n",
       "<style scoped>\n",
       "    .dataframe tbody tr th:only-of-type {\n",
       "        vertical-align: middle;\n",
       "    }\n",
       "\n",
       "    .dataframe tbody tr th {\n",
       "        vertical-align: top;\n",
       "    }\n",
       "\n",
       "    .dataframe thead th {\n",
       "        text-align: right;\n",
       "    }\n",
       "</style>\n",
       "<table border=\"1\" class=\"dataframe\">\n",
       "  <thead>\n",
       "    <tr style=\"text-align: right;\">\n",
       "      <th></th>\n",
       "      <th>룸타입</th>\n",
       "      <th>룸타입_matched</th>\n",
       "    </tr>\n",
       "  </thead>\n",
       "  <tbody>\n",
       "    <tr>\n",
       "      <th>0</th>\n",
       "      <td>Deluxe Room, 2 Queen Bed</td>\n",
       "      <td>King Room, Deluxe</td>\n",
       "    </tr>\n",
       "    <tr>\n",
       "      <th>1</th>\n",
       "      <td>Deluxe Room, City View</td>\n",
       "      <td>King Room, Deluxe</td>\n",
       "    </tr>\n",
       "    <tr>\n",
       "      <th>2</th>\n",
       "      <td>Club Room, 1 King Bed</td>\n",
       "      <td>NaN</td>\n",
       "    </tr>\n",
       "    <tr>\n",
       "      <th>3</th>\n",
       "      <td>Junior Suite, 1 King Bed</td>\n",
       "      <td>NaN</td>\n",
       "    </tr>\n",
       "    <tr>\n",
       "      <th>4</th>\n",
       "      <td>King Room, Deluxe</td>\n",
       "      <td>Deluxe Room, 2 Queen Bed</td>\n",
       "    </tr>\n",
       "  </tbody>\n",
       "</table>\n",
       "</div>"
      ],
      "text/plain": [
       "                        룸타입               룸타입_matched\n",
       "0  Deluxe Room, 2 Queen Bed         King Room, Deluxe\n",
       "1    Deluxe Room, City View         King Room, Deluxe\n",
       "2     Club Room, 1 King Bed                       NaN\n",
       "3  Junior Suite, 1 King Bed                       NaN\n",
       "4         King Room, Deluxe  Deluxe Room, 2 Queen Bed"
      ]
     },
     "execution_count": 18,
     "metadata": {},
     "output_type": "execute_result"
    }
   ],
   "source": [
    "# 위 과정을 함수로 표현\n",
    "def get_match(input_str, threshold):\n",
    "    \"\"\"\n",
    "    input_str을 df['룸타입']의 후보와 비교한 후 \n",
    "    가장 비슷한 값이 threshold보다 높으면 그 값을 반환하고, \n",
    "    그렇지 않으면 결측치로 반환\n",
    "    \"\"\"\n",
    "    top_score = process.extract(input_str, df['룸타입'])[1]\n",
    "    top_score = top_score[0] if top_score[1] > threshold else np.nan\n",
    "    return top_score\n",
    "\n",
    "df['룸타입_matched'] = [get_match(row, 70) for row in df['룸타입']]\n",
    "df"
   ]
  },
  {
   "cell_type": "code",
   "execution_count": null,
   "id": "bde79fb9",
   "metadata": {},
   "outputs": [],
   "source": []
  }
 ],
 "metadata": {
  "kernelspec": {
   "display_name": "Python 3 (ipykernel)",
   "language": "python",
   "name": "python3"
  },
  "language_info": {
   "codemirror_mode": {
    "name": "ipython",
    "version": 3
   },
   "file_extension": ".py",
   "mimetype": "text/x-python",
   "name": "python",
   "nbconvert_exporter": "python",
   "pygments_lexer": "ipython3",
   "version": "3.9.7"
  },
  "toc": {
   "base_numbering": 1,
   "nav_menu": {},
   "number_sections": true,
   "sideBar": true,
   "skip_h1_title": false,
   "title_cell": "Table of Contents",
   "title_sidebar": "Contents",
   "toc_cell": false,
   "toc_position": {},
   "toc_section_display": true,
   "toc_window_display": false
  }
 },
 "nbformat": 4,
 "nbformat_minor": 5
}
